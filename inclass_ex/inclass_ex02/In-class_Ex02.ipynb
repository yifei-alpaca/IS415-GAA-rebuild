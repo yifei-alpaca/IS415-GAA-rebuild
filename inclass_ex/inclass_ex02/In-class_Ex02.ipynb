{
  "cells": [
    {
      "cell_type": "raw",
      "metadata": {},
      "source": [
        "---\n",
        "title: \"In-Class Ex02\"\n",
        "date: \"`r Sys.Date()`\"\n",
        "author: \"Sherry Ng\"\n",
        "format: html \n",
        "execute: \n",
        "  message: false\n",
        "  warning: false\n",
        "editor: visual\n",
        "---"
      ],
      "id": "2f3f39a6"
    },
    {
      "cell_type": "markdown",
      "metadata": {},
      "source": [
        "## Testing\n",
        "\n",
        "\n",
        "```{mpsz <- st_read(dsn = \"data/geospatial\",}\n",
        "                layer = \"MP14_SUBZONE_WEB_PL\")\n",
        "```"
      ],
      "id": "9e305459"
    }
  ],
  "metadata": {
    "kernelspec": {
      "display_name": "Python 3",
      "language": "python",
      "name": "python3"
    }
  },
  "nbformat": 4,
  "nbformat_minor": 5
}